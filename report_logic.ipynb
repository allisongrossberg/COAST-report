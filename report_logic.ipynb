{
 "cells": [
  {
   "cell_type": "code",
   "execution_count": 178,
   "metadata": {},
   "outputs": [],
   "source": [
    "import pandas as pd\n",
    "# from jinja2 import Environment, FileSystemLoader\n",
    "from docxtpl import DocxTemplate\n",
    "from datetime import datetime\n",
    "import math"
   ]
  },
  {
   "cell_type": "markdown",
   "metadata": {},
   "source": [
    "Set Up"
   ]
  },
  {
   "cell_type": "code",
   "execution_count": 179,
   "metadata": {},
   "outputs": [],
   "source": [
    "data_file = \"COAST_Data_9_25_23.xlsx\"\n",
    "study_id = \"84HZC\""
   ]
  },
  {
   "cell_type": "code",
   "execution_count": 180,
   "metadata": {},
   "outputs": [],
   "source": [
    "data_df = pd.read_excel(data_file, index_col=False)\n",
    "participant_df = data_df[data_df[\"participant_id\"] == study_id]"
   ]
  },
  {
   "cell_type": "code",
   "execution_count": 181,
   "metadata": {},
   "outputs": [],
   "source": [
    "participant_dict = participant_df.to_dict(\"records\")[0]\n",
    "report_dict = {}"
   ]
  },
  {
   "cell_type": "markdown",
   "metadata": {},
   "source": [
    "Demographic Info"
   ]
  },
  {
   "cell_type": "code",
   "execution_count": 182,
   "metadata": {},
   "outputs": [],
   "source": [
    "first_name = participant_dict[\"qq_first_name\"]\n",
    "report_dict.update({\"first_name\": first_name})\n",
    "last_name = participant_dict[\"qq_last_name\"]\n",
    "report_dict.update({\"last_name\": last_name})\n",
    "start_date = str(participant_dict[\"qq_start_date\"]).split(\" \")[0]\n",
    "report_dict.update({\"start_date\": start_date})"
   ]
  },
  {
   "cell_type": "code",
   "execution_count": 187,
   "metadata": {},
   "outputs": [],
   "source": [
    "if participant_dict[\"qq_covid_number\"] and participant_dict[\"qq_covid_number\"] != \"I have never had COVID-19\":\n",
    "    covid_number = int(participant_dict[\"qq_covid_number\"])\n",
    "else:\n",
    "    covid_number = 0\n",
    "report_dict.update({\"covid_number\": covid_number})"
   ]
  },
  {
   "cell_type": "code",
   "execution_count": 185,
   "metadata": {},
   "outputs": [
    {
     "ename": "TypeError",
     "evalue": "must be real number, not str",
     "output_type": "error",
     "traceback": [
      "\u001b[0;31m---------------------------------------------------------------------------\u001b[0m",
      "\u001b[0;31mTypeError\u001b[0m                                 Traceback (most recent call last)",
      "\u001b[1;32m/Users/allisongrossberg/Desktop/symptom_report/report_logic.ipynb Cell 9\u001b[0m in \u001b[0;36m<cell line: 1>\u001b[0;34m()\u001b[0m\n\u001b[0;32m----> <a href='vscode-notebook-cell:/Users/allisongrossberg/Desktop/symptom_report/report_logic.ipynb#W4sZmlsZQ%3D%3D?line=0'>1</a>\u001b[0m \u001b[39mif\u001b[39;00m participant_dict[\u001b[39m\"\u001b[39m\u001b[39mqq_covid_number\u001b[39m\u001b[39m\"\u001b[39m] \u001b[39mand\u001b[39;00m \u001b[39mnot\u001b[39;00m math\u001b[39m.\u001b[39;49misnan(participant_dict[\u001b[39m\"\u001b[39;49m\u001b[39mqq_covid_number\u001b[39;49m\u001b[39m\"\u001b[39;49m]) \u001b[39mand\u001b[39;00m participant_dict[\u001b[39m\"\u001b[39m\u001b[39mqq_covid_number\u001b[39m\u001b[39m\"\u001b[39m] \u001b[39m!=\u001b[39m \u001b[39m\"\u001b[39m\u001b[39mI have never had COVID-19\u001b[39m\u001b[39m\"\u001b[39m:\n\u001b[1;32m      <a href='vscode-notebook-cell:/Users/allisongrossberg/Desktop/symptom_report/report_logic.ipynb#W4sZmlsZQ%3D%3D?line=1'>2</a>\u001b[0m     covid_number \u001b[39m=\u001b[39m \u001b[39mint\u001b[39m(participant_dict[\u001b[39m\"\u001b[39m\u001b[39mqq_covid_number\u001b[39m\u001b[39m\"\u001b[39m])\n\u001b[1;32m      <a href='vscode-notebook-cell:/Users/allisongrossberg/Desktop/symptom_report/report_logic.ipynb#W4sZmlsZQ%3D%3D?line=2'>3</a>\u001b[0m \u001b[39melse\u001b[39;00m:\n",
      "\u001b[0;31mTypeError\u001b[0m: must be real number, not str"
     ]
    }
   ],
   "source": [
    "if participant_dict[\"qq_covid_number\"] and not math.isnan(participant_dict[\"qq_covid_number\"]) and participant_dict[\"qq_covid_number\"] != \"I have never had COVID-19\":\n",
    "    covid_number = int(participant_dict[\"qq_covid_number\"])\n",
    "else:\n",
    "    covid_number = 0\n",
    "report_dict.update({\"covid_number\": covid_number})"
   ]
  },
  {
   "cell_type": "code",
   "execution_count": 189,
   "metadata": {},
   "outputs": [],
   "source": [
    "def format_symptom(symptom):\n",
    "    return symptom.replace(\"_\", \" \").title()"
   ]
  },
  {
   "cell_type": "code",
   "execution_count": 190,
   "metadata": {},
   "outputs": [],
   "source": [
    "covid_symptoms = [\n",
    "    \"nasal_congestion\",\n",
    "    \"sore_throat\",\n",
    "    \"runny_nose\",\n",
    "    \"ear_pain\",\n",
    "    \"cough\",\n",
    "    \"sputum_production\",\n",
    "    \"difficulty_breathing_sob\",\n",
    "    \"hoarse_voice\",\n",
    "    \"chest_pain_tightness\",\n",
    "    \"chills\",\n",
    "    \"swollen_lymph_nodes\",\n",
    "    \"skipping_meals_appetite_loss\",\n",
    "    \"insomnia_sleep_problems\",\n",
    "    \"sensitivity_heat_cold\",\n",
    "    \"sweats\",\n",
    "    \"white_red_purple_swollen_fingers_toes\",\n",
    "    \"fever_feverish\",\n",
    "    \"fatigue\",\n",
    "    \"mood_swings_irritability\",\n",
    "    \"weight_loss\",\n",
    "    \"drowsiness\",\n",
    "    \"tachycardia_arrhythmia_palpitations\",\n",
    "    \"eye_soreness_discomfort\",\n",
    "    \"reduced_blurred_vision\",\n",
    "    \"photophobia_phonophobia\",\n",
    "    \"brain_fog\",\n",
    "    \"confusion\",\n",
    "    \"memory_problems\",\n",
    "    \"difficulty_concentrating\",\n",
    "    \"delirium\",\n",
    "    \"difficulty_finding_words\",\n",
    "    \"paresthesia\",\n",
    "    \"headache\",\n",
    "    \"los\",\n",
    "    \"lot\",\n",
    "    \"dizziness_lightheadedness\",\n",
    "    \"difficulty_balancing\",\n",
    "    \"tremors\",\n",
    "    \"stroke\",\n",
    "    \"seizures\",\n",
    "    \"hypoacusis\",\n",
    "    \"numbness_hands_feet\",\n",
    "    \"hypoethesia\",\n",
    "    \"abdominal_pain_stomachache\",\n",
    "    \"diarrhea\",\n",
    "    \"nausea_vomiting\",\n",
    "    \"muscle_weakness\",\n",
    "    \"muscle_pains_aches\",\n",
    "    \"bone_joint_pain\",\n",
    "    \"neck_back_pain\"\n",
    "]"
   ]
  },
  {
   "cell_type": "code",
   "execution_count": 191,
   "metadata": {},
   "outputs": [],
   "source": [
    "covid_rows = []\n",
    "if covid_number:\n",
    "    for i in range(covid_number):\n",
    "        row_dict = {}\n",
    "        incidence_num = i + 1\n",
    "        if not participant_dict[f\"qq_covid_{incidence_num}_symptom_onset_month\"]:\n",
    "            row_dict.update({\"label\": str(incidence_num), \"date\": \"No Symptom Onset\", \"symptoms\": \"N/A - No Ongoing Symptoms\"})\n",
    "            covid_rows.append(row_dict)\n",
    "        month = str(int(participant_dict[f\"qq_covid_{incidence_num}_symptom_onset_month\"]))\n",
    "        day = str(int(participant_dict[f\"qq_covid_{incidence_num}_symptom_onset_day\"])) \n",
    "        year = str(int(participant_dict[f\"qq_covid_{incidence_num}_symptom_onset_year\"]) + 1899)\n",
    "        date = f\"{month}/{day}/{year}\"\n",
    "        symptom_list = []\n",
    "        for symptom in covid_symptoms:\n",
    "            if participant_dict[f\"qq_covid_{incidence_num}_duration_{symptom}\"] == \"I am still experiencing this symptom\":\n",
    "                symptom_list.append(format_symptom(symptom))\n",
    "        symptom_str = \", \".join(symptom_list)\n",
    "        if not symptom_str:\n",
    "            symptom_str = \"N/A - No Ongoing Symptoms\"\n",
    "        row_dict.update({\"label\": str(incidence_num), \"date\": date, \"symptoms\": symptom_str})\n",
    "        covid_rows.append(row_dict)\n",
    "    report_dict.update({\"covid_rows\": covid_rows})\n",
    "else:\n",
    "    report_dict.update({\"covid_rows\": [{\"label\": \"\", \"date\": \"\", \"symptoms\": \"No Reported History of COVID-19\"}]})"
   ]
  },
  {
   "cell_type": "code",
   "execution_count": 192,
   "metadata": {},
   "outputs": [],
   "source": [
    "tbi_symptoms = [\n",
    "    \"headache\",\n",
    "    \"nausea\",\n",
    "    \"vomiting\",\n",
    "    \"balance_problems\",\n",
    "    \"dizziness\",\n",
    "    \"lightheadedness\",\n",
    "    \"fatigue\",\n",
    "    \"trouble_falling_asleep\",\n",
    "    \"sleeping_more\",\n",
    "    \"sleeping_less\",\n",
    "    \"drowsiness\",\n",
    "    \"light_sensitivity\",\n",
    "    \"noise_sensitivity\",\n",
    "    \"irritability\",\n",
    "    \"feeling_frustrated_impatient\",\n",
    "    \"taking_longer_to_think\",\n",
    "    \"restlessness\",\n",
    "    \"sadness\",\n",
    "    \"nervousness_anxiousness\",\n",
    "    \"feeling_more_emotional\",\n",
    "    \"numbness_tingling\",\n",
    "    \"feeling_slowed_down\",\n",
    "    \"in_a_fog\",\n",
    "    \"difficulty_concentrating\",\n",
    "    \"difficulty_remembering\",\n",
    "    \"blurred_vision\",\n",
    "    \"double_vision\",\n",
    "    \"pain\"\n",
    "]"
   ]
  },
  {
   "cell_type": "code",
   "execution_count": 193,
   "metadata": {},
   "outputs": [],
   "source": [
    "if participant_dict[\"qq_tbi_num\"] and not math.isnan(participant_dict[\"qq_tbi_num\"]):\n",
    "    tbi_number = int(participant_dict[\"qq_tbi_num\"])\n",
    "else:\n",
    "    tbi_number = 0\n",
    "report_dict.update({\"tbi_number\": tbi_number})"
   ]
  },
  {
   "cell_type": "code",
   "execution_count": 194,
   "metadata": {},
   "outputs": [],
   "source": [
    "tbi_rows = []\n",
    "if tbi_number:\n",
    "    for i in range(tbi_number):\n",
    "        row_dict = {}\n",
    "        incidence_num = i + 1\n",
    "        month = str(participant_dict[f\"qq_tbi_{incidence_num}_month\"])\n",
    "        year = str(int(participant_dict[f\"qq_tbi_{incidence_num}_year\"]))\n",
    "        date = f\"{month} {year}\"\n",
    "        symptom_list = []\n",
    "        for symptom in tbi_symptoms:\n",
    "            if participant_dict[f\"qq_tbi_{incidence_num}_duration_{symptom}\"] == \"I am still experiencing this symptom\":\n",
    "                symptom_list.append(format_symptom(symptom))\n",
    "        symptom_str = \", \".join(symptom_list)\n",
    "        if not symptom_str:\n",
    "            symptom_str = \"N/A - No Ongoing Symptoms\"\n",
    "        row_dict.update({\"label\": str(incidence_num), \"date\": date, \"symptoms\": symptom_str})\n",
    "        tbi_rows.append(row_dict)\n",
    "    report_dict.update({\"tbi_rows\": tbi_rows})\n",
    "else:\n",
    "    report_dict.update({\"tbi_rows\": [{\"label\": \"\", \"date\": \"\", \"symptoms\": \"No Reported History of Brain Injury\"}]})"
   ]
  },
  {
   "cell_type": "code",
   "execution_count": null,
   "metadata": {},
   "outputs": [],
   "source": [
    "vaccine_dose_cols = [\n",
    "    \"qq_covid_vaccination_doses___1\",\n",
    "    \"qq_covid_vaccination_doses___2\",\n",
    "    \"qq_covid_vaccination_doses___3\",\n",
    "    \"qq_covid_vaccination_doses___4\",\n",
    "]\n",
    "label_dict = {\n",
    "    \"1\": \"First Dose\",\n",
    "    \"2\": \"Second Dose\",\n",
    "    \"3\": \"Third Dose\",\n",
    "    \"4\": \"Booster\"\n",
    "}\n",
    "vaccine_incidence_list = []\n",
    "for col in vaccine_dose_cols:\n",
    "    if participant_dict[col] == \"Checked\":\n",
    "        vaccine_incidence_list.append(col[-1])\n",
    "\n",
    "vaccine_number = len(vaccine_incidence_list)\n",
    "report_dict.update({\"vaccine_number\": vaccine_number})\n",
    "\n",
    "vaccine_rows = []\n",
    "if vaccine_incidence_list:\n",
    "    for num in vaccine_incidence_list:\n",
    "        row_dict = {}\n",
    "        if num == \"4\":\n",
    "            num =  \"booster\"\n",
    "        month = str(int(participant_dict[f\"qq_covid_vaccination_dose_{num}_date_month\"]))\n",
    "        day = str(int(participant_dict[f\"qq_covid_vaccination_dose_{num}_date_day\"]))\n",
    "        year = str(int(participant_dict[f\"qq_covid_vaccination_dose_{num}_date_year\"]) + 1899)\n",
    "        date = f\"{month}/{day}/{year}\"\n",
    "        if num == \"4\":\n",
    "            vaccine_type_col = \"qq_covid_vaccine_type_booster\"\n",
    "        else:\n",
    "            vaccine_type_col = f\"qq_covid_vaccine_type_dose_{num}\"\n",
    "        vaccine_type = participant_dict[vaccine_type_col]\n",
    "        if not participant_dict[vaccine_type_col]:\n",
    "            vaccine_type = participant_dict[f\"qq_covid_vaccine_type_dose_{num}_other\"]\n",
    "        else:\n",
    "            vaccine_type = participant_dict[vaccine_type_col]\n",
    "        row_dict.update({\"label\": label_dict[num], \"date\": date, \"type\": vaccine_type})\n",
    "        vaccine_rows.append(row_dict)\n",
    "    report_dict.update({\"vaccine_rows\": vaccine_rows})\n",
    "else:\n",
    "    report_dict.update({\"vaccine_rows\": [{\"label\": \"\", \"date\": \"No Vaccination History\", \"type\": \"\"}]})\n"
   ]
  },
  {
   "cell_type": "code",
   "execution_count": 195,
   "metadata": {},
   "outputs": [],
   "source": [
    "doc = DocxTemplate(\"coast_report_template.docx\")"
   ]
  },
  {
   "cell_type": "code",
   "execution_count": 196,
   "metadata": {},
   "outputs": [],
   "source": [
    "doc.render(report_dict)"
   ]
  },
  {
   "cell_type": "code",
   "execution_count": 197,
   "metadata": {},
   "outputs": [],
   "source": [
    "today = datetime.today().strftime('%Y-%m-%d')\n",
    "doc.save(f\"reports/{last_name}_{first_name}_y1_qq_report_{today}.docx\")"
   ]
  },
  {
   "cell_type": "code",
   "execution_count": 198,
   "metadata": {},
   "outputs": [],
   "source": [
    "num = 0\n",
    "if num:\n",
    "    print(\"hi\")"
   ]
  }
 ],
 "metadata": {
  "kernelspec": {
   "display_name": "Python 3",
   "language": "python",
   "name": "python3"
  },
  "language_info": {
   "codemirror_mode": {
    "name": "ipython",
    "version": 3
   },
   "file_extension": ".py",
   "mimetype": "text/x-python",
   "name": "python",
   "nbconvert_exporter": "python",
   "pygments_lexer": "ipython3",
   "version": "3.8.5"
  },
  "orig_nbformat": 4
 },
 "nbformat": 4,
 "nbformat_minor": 2
}
